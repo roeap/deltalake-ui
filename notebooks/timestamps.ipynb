{
 "cells": [
  {
   "cell_type": "code",
   "execution_count": null,
   "metadata": {},
   "outputs": [],
   "source": [
    "import delta\n",
    "import delta.pip_utils\n",
    "import delta.tables\n",
    "import pyspark\n",
    "\n",
    "\n",
    "def get_spark_ts_64():\n",
    "    builder = (\n",
    "        pyspark.sql.SparkSession.builder.appName(\"lakehouse\")\n",
    "        .config(\"spark.sql.extensions\", \"io.delta.sql.DeltaSparkSessionExtension\")\n",
    "        .config(\n",
    "            \"spark.sql.catalog.spark_catalog\",\n",
    "            \"org.apache.spark.sql.delta.catalog.DeltaCatalog\",\n",
    "        )\n",
    "        .config(\n",
    "            \"spark.sql.parquet.outputTimestampType\",\n",
    "            \"TIMESTAMP_MICROS\",\n",
    "        )\n",
    "    )\n",
    "    return delta.pip_utils.configure_spark_with_delta_pip(builder).getOrCreate()"
   ]
  },
  {
   "cell_type": "code",
   "execution_count": null,
   "metadata": {},
   "outputs": [],
   "source": [
    "df = pl.select(pl.datetime(2010, 1, 1, time_unit=\"us\", time_zone=\"UTC\"))\n",
    "\n",
    "print(df.to_arrow().schema)\n",
    "\n",
    "df.write_delta(\"test\")\n",
    "df.write_parquet(\"test.parquet\")\n",
    "\n",
    "dt = DeltaTable(\"test\")\n",
    "\n",
    "print(dt.schema().to_pyarrow())"
   ]
  }
 ],
 "metadata": {
  "kernelspec": {
   "display_name": ".venv",
   "language": "python",
   "name": "python3"
  },
  "language_info": {
   "name": "python",
   "version": "3.10.6"
  }
 },
 "nbformat": 4,
 "nbformat_minor": 2
}
