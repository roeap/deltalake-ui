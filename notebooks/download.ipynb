{
 "cells": [
  {
   "cell_type": "code",
   "execution_count": 2,
   "metadata": {},
   "outputs": [],
   "source": [
    "# import duckdb"
   ]
  },
  {
   "cell_type": "code",
   "execution_count": 3,
   "metadata": {},
   "outputs": [],
   "source": [
    "_TAXI_SCHEMA_RAW = pa.schema(\n",
    "    [\n",
    "        pa.field(\"VendorID\", pa.int64()),\n",
    "        pa.field(\"tpep_pickup_datetime\", pa.timestamp(\"us\")),\n",
    "        pa.field(\"tpep_dropoff_datetime\", pa.timestamp(\"us\")),\n",
    "        pa.field(\"passenger_count\", pa.float64()),\n",
    "        pa.field(\"trip_distance\", pa.float64()),\n",
    "        pa.field(\"RatecodeID\", pa.float64()),\n",
    "        pa.field(\"store_and_fwd_flag\", pa.string()),\n",
    "        pa.field(\"PULocationID\", pa.int64()),\n",
    "        pa.field(\"DOLocationID\", pa.int64()),\n",
    "        pa.field(\"payment_type\", pa.int64()),\n",
    "        pa.field(\"fare_amount\", pa.float64()),\n",
    "        pa.field(\"extra\", pa.float64()),\n",
    "        pa.field(\"mta_tax\", pa.float64()),\n",
    "        pa.field(\"tip_amount\", pa.float64()),\n",
    "        pa.field(\"tolls_amount\", pa.float64()),\n",
    "        pa.field(\"improvement_surcharge\", pa.float64()),\n",
    "        pa.field(\"total_amount\", pa.float64()),\n",
    "        pa.field(\"congestion_surcharge\", pa.float64()),\n",
    "        pa.field(\"airport_fee\", pa.float64()),\n",
    "    ]\n",
    ")\n",
    "\n",
    "base_link = \"https://d37ci6vzurychx.cloudfront.net/trip-data/yellow_tripdata_{}.parquet\"\n",
    "data_root = Path.cwd().parent / \".data\"\n",
    "\n",
    "dates = [\n",
    "    \"2020-01\",\n",
    "    \"2020-02\",\n",
    "    \"2020-03\",\n",
    "    \"2020-04\",\n",
    "    \"2020-05\",\n",
    "    \"2020-06\",\n",
    "    \"2020-07\",\n",
    "    \"2020-08\",\n",
    "    \"2020-09\",\n",
    "    \"2020-10\",\n",
    "    \"2020-11\",\n",
    "    \"2020-12\",\n",
    "]\n",
    "dates = [\n",
    "    \"2021-01\",\n",
    "    \"2021-02\",\n",
    "    \"2021-03\",\n",
    "    \"2021-04\",\n",
    "    \"2021-05\",\n",
    "    \"2021-06\",\n",
    "    \"2021-07\",\n",
    "    \"2021-08\",\n",
    "    \"2021-09\",\n",
    "    \"2021-10\",\n",
    "    \"2021-11\",\n",
    "    \"2021-12\",\n",
    "]\n",
    "dates = [\"2021-01\"]\n",
    "\n",
    "\n",
    "for date in dates:\n",
    "    table_url = base_link.format(date)\n",
    "    response = requests.get(table_url)\n",
    "    table = pq.read_table(pa.py_buffer(response.content), schema=_TAXI_SCHEMA_RAW)\n",
    "    write_deltalake(str(data_root / \"raw\"), table, mode=\"append\")"
   ]
  },
  {
   "cell_type": "code",
   "execution_count": 4,
   "metadata": {},
   "outputs": [
    {
     "data": {
      "text/plain": [
       "['VendorID',\n",
       " 'tpep_pickup_datetime',\n",
       " 'tpep_dropoff_datetime',\n",
       " 'passenger_count',\n",
       " 'trip_distance',\n",
       " 'RatecodeID',\n",
       " 'store_and_fwd_flag',\n",
       " 'PULocationID',\n",
       " 'DOLocationID',\n",
       " 'payment_type',\n",
       " 'fare_amount',\n",
       " 'extra',\n",
       " 'mta_tax',\n",
       " 'tip_amount',\n",
       " 'tolls_amount',\n",
       " 'improvement_surcharge',\n",
       " 'total_amount',\n",
       " 'congestion_surcharge',\n",
       " 'airport_fee']"
      ]
     },
     "execution_count": 4,
     "metadata": {},
     "output_type": "execute_result"
    }
   ],
   "source": [
    "table.schema.names"
   ]
  },
  {
   "cell_type": "code",
   "execution_count": 48,
   "metadata": {},
   "outputs": [
    {
     "data": {
      "text/plain": [
       "23"
      ]
     },
     "execution_count": 48,
     "metadata": {},
     "output_type": "execute_result"
    }
   ],
   "source": [
    "dt = DeltaTable(str(data_root / \"raw\"))\n",
    "dt.version()"
   ]
  },
  {
   "cell_type": "code",
   "execution_count": 49,
   "metadata": {},
   "outputs": [
    {
     "data": {
      "text/plain": [
       "(55553400, 19)"
      ]
     },
     "execution_count": 49,
     "metadata": {},
     "output_type": "execute_result"
    }
   ],
   "source": [
    "dt = DeltaTable(str(data_root / \"raw\"))\n",
    "taxi_raw = dt.to_pyarrow_table()\n",
    "taxi_raw.shape"
   ]
  },
  {
   "cell_type": "code",
   "execution_count": 51,
   "metadata": {},
   "outputs": [
    {
     "data": {
      "text/plain": [
       "<pyarrow.lib.Int64Array object at 0x12dfed720>\n",
       "[\n",
       "  null\n",
       "]"
      ]
     },
     "execution_count": 51,
     "metadata": {},
     "output_type": "execute_result"
    }
   ],
   "source": [
    "pc.unique(taxi_raw[\"pulocationid\"])"
   ]
  },
  {
   "cell_type": "code",
   "execution_count": 50,
   "metadata": {},
   "outputs": [
    {
     "data": {
      "text/plain": [
       "(0, 19)"
      ]
     },
     "execution_count": 50,
     "metadata": {},
     "output_type": "execute_result"
    }
   ],
   "source": [
    "conn = duckdb.connect(\":memory:\")\n",
    "taxi_raw = dt.to_pyarrow_table()\n",
    "\n",
    "results = conn.execute(\"select * from taxi_raw where pulocationid = 245\").arrow()\n",
    "results.shape"
   ]
  },
  {
   "cell_type": "code",
   "execution_count": 47,
   "metadata": {},
   "outputs": [
    {
     "data": {
      "text/plain": [
       "(0, 19)"
      ]
     },
     "execution_count": 47,
     "metadata": {},
     "output_type": "execute_result"
    }
   ],
   "source": [
    "conn = duckdb.connect(\":memory:\")\n",
    "\n",
    "dt = DeltaTable(str(data_root / \"raw\"))\n",
    "taxi_raw_dt = dt.to_pyarrow_dataset()\n",
    "\n",
    "results = conn.execute(\n",
    "    \"select * from taxi_raw_dt where pulocationid = 245 and passenger_count > 1\"\n",
    ").arrow()\n",
    "results.shape"
   ]
  },
  {
   "cell_type": "code",
   "execution_count": 40,
   "metadata": {},
   "outputs": [
    {
     "data": {
      "text/plain": [
       "9"
      ]
     },
     "execution_count": 40,
     "metadata": {},
     "output_type": "execute_result"
    }
   ],
   "source": [
    "dt = DeltaTable(str(data_root / \"repo\" / \"raw\"))\n",
    "dt.version()"
   ]
  },
  {
   "cell_type": "code",
   "execution_count": 43,
   "metadata": {},
   "outputs": [
    {
     "data": {
      "text/plain": [
       "{'numFilesAdded': 1,\n",
       " 'numFilesRemoved': 4,\n",
       " 'filesAdded': {'min': 95610069,\n",
       "  'max': 95610069,\n",
       "  'avg': 95610069.0,\n",
       "  'totalFiles': 1,\n",
       "  'totalSize': 95610069},\n",
       " 'filesRemoved': {'min': 26622159,\n",
       "  'max': 40807203,\n",
       "  'avg': 32687111.5,\n",
       "  'totalFiles': 4,\n",
       "  'totalSize': 130748446},\n",
       " 'partitionsOptimized': 0,\n",
       " 'numBatches': 835,\n",
       " 'totalConsideredFiles': 4,\n",
       " 'totalFilesSkipped': 0,\n",
       " 'preserveInsertionOrder': True}"
      ]
     },
     "execution_count": 43,
     "metadata": {},
     "output_type": "execute_result"
    }
   ],
   "source": [
    "dt = DeltaTable(str(data_root / \"repo\" / \"raw\"))\n",
    "dt.optimize.z_order([\"pulocationid\", \"passenger_count\"])"
   ]
  },
  {
   "cell_type": "code",
   "execution_count": 6,
   "metadata": {},
   "outputs": [
    {
     "data": {
      "text/plain": [
       "ObjectMeta { location: Path { raw: \"meta/zone_to_borough.json\" }, last_modified: 2023-01-19T20:36:34.647420313Z, size: 8687 }"
      ]
     },
     "execution_count": 6,
     "metadata": {},
     "output_type": "execute_result"
    }
   ],
   "source": [
    "from object_store import ObjectStore\n",
    "\n",
    "store = ObjectStore(\"file:///Users/packre/code/delta-lakehouse/data\")\n",
    "store.head(\"meta/zone_to_borough.json\")"
   ]
  },
  {
   "cell_type": "code",
   "execution_count": 10,
   "metadata": {},
   "outputs": [],
   "source": [
    "import collections\n",
    "import json\n",
    "\n",
    "import numpy as np\n",
    "from object_store import ObjectStore\n",
    "\n",
    "store = ObjectStore(\"file:///Users/packre/code/delta-lakehouse/data\")\n",
    "geo_json = json.loads(store.get(\"meta/taxi_zones-tiny.json\"))\n",
    "\n",
    "features = geo_json[\"features\"]\n",
    "borough_polygons = collections.defaultdict(list)\n",
    "zone_polygons = collections.defaultdict(list)\n",
    "zbmapper = {}\n",
    "list_of_polygons = []\n",
    "for i, feature in enumerate(features[:]):\n",
    "    properties = feature[\"properties\"]\n",
    "    geo = feature[\"geometry\"]\n",
    "\n",
    "    polygons = []\n",
    "    for polygon in geo[\"coordinates\"]:\n",
    "        polygon = np.array(polygon)\n",
    "        if polygon.ndim == 3:\n",
    "            polygon = polygon[0]\n",
    "        polygon = polygon.T\n",
    "        assert polygon.shape[0] == 2\n",
    "        assert polygon.ndim == 2\n",
    "        polygons.append(polygon)\n",
    "\n",
    "    borough_polygons[properties[\"borough\"]].extend(polygons)\n",
    "    zone_polygons[properties[\"zone\"]].extend(polygons)\n",
    "    zbmapper[properties[\"zone\"]] = properties[\"borough\"]\n",
    "\n",
    "keys = list(borough_polygons.keys())\n",
    "bmapper = {i: keys[i] for i in range(len(keys))}\n",
    "keys = list(zone_polygons.keys())\n",
    "zmapper = {i: keys[i] for i in range(len(keys))}\n",
    "\n",
    "with open(\"./aux_data/zone.json\", \"w\") as f:\n",
    "    json.dump(zmapper, f)\n",
    "with open(\"./aux_data/borough.json\", \"w\") as f:\n",
    "    json.dump(bmapper, f)\n",
    "with open(\"./aux_data/zone_to_borough.json\", \"w\") as f:\n",
    "    json.dump(zbmapper, f)"
   ]
  }
 ],
 "metadata": {
  "kernelspec": {
   "display_name": ".venv",
   "language": "python",
   "name": "python3"
  },
  "language_info": {
   "codemirror_mode": {
    "name": "ipython",
    "version": 3
   },
   "file_extension": ".py",
   "mimetype": "text/x-python",
   "name": "python",
   "nbconvert_exporter": "python",
   "pygments_lexer": "ipython3",
   "version": "3.10.6"
  },
  "orig_nbformat": 4,
  "vscode": {
   "interpreter": {
    "hash": "e68035cb16b90109ad0e4039ddb8cd8e55ea5a3b76d71c7588d5bb64d1f839ba"
   }
  }
 },
 "nbformat": 4,
 "nbformat_minor": 2
}
