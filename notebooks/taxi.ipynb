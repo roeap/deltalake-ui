{
 "cells": [
  {
   "cell_type": "code",
   "execution_count": 1,
   "metadata": {},
   "outputs": [
    {
     "data": {
      "text/plain": [
       "<pyarrow.lib.Date64Array object at 0x7fec00819e40>\n",
       "[\n",
       "  2020-01-01,\n",
       "  2020-01-01,\n",
       "  2020-01-01,\n",
       "  2020-01-01,\n",
       "  2020-01-01,\n",
       "  2020-01-01,\n",
       "  2020-01-01,\n",
       "  2020-01-01,\n",
       "  2020-01-01,\n",
       "  2020-01-01\n",
       "]"
      ]
     },
     "execution_count": 1,
     "metadata": {},
     "output_type": "execute_result"
    }
   ],
   "source": [
    "import datetime as dt\n",
    "\n",
    "import pyarrow as pa\n",
    "\n",
    "partition_key = \"2020-01-01\"\n",
    "\n",
    "\n",
    "date = dt.datetime.fromisoformat(partition_key)\n",
    "pa.array([date] * 10, pa.date64())"
   ]
  }
 ],
 "metadata": {
  "kernelspec": {
   "display_name": ".venv",
   "language": "python",
   "name": "python3"
  },
  "language_info": {
   "codemirror_mode": {
    "name": "ipython",
    "version": 3
   },
   "file_extension": ".py",
   "mimetype": "text/x-python",
   "name": "python",
   "nbconvert_exporter": "python",
   "pygments_lexer": "ipython3",
   "version": "3.10.6"
  }
 },
 "nbformat": 4,
 "nbformat_minor": 2
}
