{
 "cells": [
  {
   "cell_type": "code",
   "execution_count": 27,
   "metadata": {},
   "outputs": [],
   "source": [
    "import requests\n",
    "\n",
    "response = requests.post(\"http://localhost:8080/admin/login\", json={\"account\": \"delta\", \"password\": \"password\"})"
   ]
  },
  {
   "cell_type": "code",
   "execution_count": 28,
   "metadata": {},
   "outputs": [],
   "source": [
    "token = response.json()[\"profile\"][\"bearerToken\"]\n",
    "headers = {\"Authorization\": f\"Bearer {token}\"}"
   ]
  },
  {
   "cell_type": "markdown",
   "metadata": {},
   "source": [
    "### Accounts\n",
    "\n",
    "`delta-sharing-rs` specific account fetching and creation"
   ]
  },
  {
   "cell_type": "code",
   "execution_count": 29,
   "metadata": {},
   "outputs": [
    {
     "data": {
      "text/plain": [
       "{'items': [{'name': 'created',\n",
       "   'email': 'mail@delta.io',\n",
       "   'namespace': 'delta',\n",
       "   'ttl': 0},\n",
       "  {'name': 'delta',\n",
       "   'email': 'delta@email.com',\n",
       "   'namespace': 'delta',\n",
       "   'ttl': 28800}]}"
      ]
     },
     "execution_count": 29,
     "metadata": {},
     "output_type": "execute_result"
    }
   ],
   "source": [
    "# list all accounts\n",
    "resp = requests.get(\"http://localhost:8080/admin/accounts?maxResults=100\", headers=headers)\n",
    "accounts = resp.json()\n",
    "accounts"
   ]
  },
  {
   "cell_type": "code",
   "execution_count": 30,
   "metadata": {},
   "outputs": [
    {
     "data": {
      "text/plain": [
       "{'account': {'name': 'created',\n",
       "  'email': 'mail@delta.io',\n",
       "  'namespace': 'delta',\n",
       "  'ttl': 0}}"
      ]
     },
     "execution_count": 30,
     "metadata": {},
     "output_type": "execute_result"
    }
   ],
   "source": [
    "# fetch account details\n",
    "account_name = accounts[\"items\"][0][\"name\"]\n",
    "resp = requests.get(f\"http://localhost:8080/admin/accounts/{account_name}\", headers=headers)\n",
    "account = resp.json()\n",
    "account"
   ]
  },
  {
   "cell_type": "code",
   "execution_count": 31,
   "metadata": {},
   "outputs": [
    {
     "data": {
      "text/plain": [
       "{'errorCode': '409', 'message': 'Conflict'}"
      ]
     },
     "execution_count": 31,
     "metadata": {},
     "output_type": "execute_result"
    }
   ],
   "source": [
    "# create a new account\n",
    "account = {\n",
    "    \"email\": \"mail@delta.io\",\n",
    "    \"name\": \"created\",\n",
    "    \"namespace\": \"delta\",\n",
    "    \"password\": \"delta\",\n",
    "    \"ttl\": 0,\n",
    "}\n",
    "resp = requests.post(\"http://localhost:8080/admin/accounts\", headers=headers, json=account)\n",
    "resp.json()"
   ]
  },
  {
   "cell_type": "markdown",
   "metadata": {},
   "source": [
    "### Shares"
   ]
  },
  {
   "cell_type": "code",
   "execution_count": 32,
   "metadata": {},
   "outputs": [
    {
     "data": {
      "text/plain": [
       "{'errorCode': '409', 'message': 'Conflict'}"
      ]
     },
     "execution_count": 32,
     "metadata": {},
     "output_type": "execute_result"
    }
   ],
   "source": [
    "new_share = {\n",
    "    \"name\": \"dev-share\",\n",
    "}\n",
    "resp = requests.post(\"http://localhost:8080/admin/shares\", headers=headers, json=new_share)\n",
    "resp.json()"
   ]
  },
  {
   "cell_type": "code",
   "execution_count": 33,
   "metadata": {},
   "outputs": [
    {
     "data": {
      "text/plain": [
       "{'items': [{'id': 'e5bdfbda-f8ae-4c37-9109-8cb2f3549be8',\n",
       "   'name': 'dev-share'}]}"
      ]
     },
     "execution_count": 33,
     "metadata": {},
     "output_type": "execute_result"
    }
   ],
   "source": [
    "resp = requests.get(\"http://localhost:8080/shares\", headers=headers)\n",
    "shares = resp.json()\n",
    "shares"
   ]
  },
  {
   "cell_type": "code",
   "execution_count": 34,
   "metadata": {},
   "outputs": [
    {
     "data": {
      "text/plain": [
       "{'share': {'id': 'e5bdfbda-f8ae-4c37-9109-8cb2f3549be8', 'name': 'dev-share'}}"
      ]
     },
     "execution_count": 34,
     "metadata": {},
     "output_type": "execute_result"
    }
   ],
   "source": [
    "share_name = shares[\"items\"][0][\"name\"]\n",
    "resp = requests.get(f\"http://localhost:8080/shares/{share_name}\", headers=headers)\n",
    "resp.json()"
   ]
  },
  {
   "cell_type": "code",
   "execution_count": 25,
   "metadata": {},
   "outputs": [
    {
     "data": {
      "text/plain": [
       "{'items': []}"
      ]
     },
     "execution_count": 25,
     "metadata": {},
     "output_type": "execute_result"
    }
   ],
   "source": [
    "share_name = shares[\"items\"][0][\"name\"]\n",
    "resp = requests.get(f\"http://localhost:8080/shares/{share_name}/all-tables\", headers=headers)\n",
    "resp.json()"
   ]
  },
  {
   "cell_type": "code",
   "execution_count": 26,
   "metadata": {},
   "outputs": [
    {
     "data": {
      "text/plain": [
       "{'items': []}"
      ]
     },
     "execution_count": 26,
     "metadata": {},
     "output_type": "execute_result"
    }
   ],
   "source": [
    "share_name = shares[\"items\"][0][\"name\"]\n",
    "resp = requests.get(f\"http://localhost:8080/shares/{share_name}/schemas\", headers=headers)\n",
    "resp.json()"
   ]
  }
 ],
 "metadata": {
  "kernelspec": {
   "display_name": "Python 3",
   "language": "python",
   "name": "python3"
  },
  "language_info": {
   "codemirror_mode": {
    "name": "ipython",
    "version": 3
   },
   "file_extension": ".py",
   "mimetype": "text/x-python",
   "name": "python",
   "nbconvert_exporter": "python",
   "pygments_lexer": "ipython3",
   "version": "3.10.6"
  },
  "orig_nbformat": 4
 },
 "nbformat": 4,
 "nbformat_minor": 2
}
