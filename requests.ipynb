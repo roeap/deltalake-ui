{
 "cells": [
  {
   "cell_type": "code",
   "execution_count": null,
   "metadata": {},
   "outputs": [],
   "source": [
    "import requests\n",
    "\n",
    "response = requests.post(\"http://localhost:8080/admin/login\", json={\"account\": \"delta\", \"password\": \"password\"})"
   ]
  },
  {
   "cell_type": "code",
   "execution_count": null,
   "metadata": {},
   "outputs": [],
   "source": [
    "token = response.json()[\"profile\"][\"bearerToken\"]\n",
    "headers = {\"Authorization\": f\"Bearer {token}\"}"
   ]
  },
  {
   "cell_type": "markdown",
   "metadata": {},
   "source": [
    "### Accounts\n",
    "\n",
    "`delta-sharing-rs` specific account fetching and creation"
   ]
  },
  {
   "cell_type": "code",
   "execution_count": null,
   "metadata": {},
   "outputs": [],
   "source": [
    "# list all accounts\n",
    "resp = requests.get(\"http://localhost:8080/admin/accounts?maxResults=100\", headers=headers)\n",
    "accounts = resp.json()\n",
    "accounts"
   ]
  },
  {
   "cell_type": "code",
   "execution_count": null,
   "metadata": {},
   "outputs": [],
   "source": [
    "# fetch account details\n",
    "account_name = accounts[\"items\"][0][\"name\"]\n",
    "resp = requests.get(f\"http://localhost:8080/admin/accounts/{account_name}\", headers=headers)\n",
    "account = resp.json()\n",
    "account"
   ]
  },
  {
   "cell_type": "code",
   "execution_count": null,
   "metadata": {},
   "outputs": [],
   "source": [
    "# create a new account\n",
    "account = {\n",
    "    \"email\": \"mail@delta.io\",\n",
    "    \"name\": \"created\",\n",
    "    \"namespace\": \"delta\",\n",
    "    \"password\": \"delta\",\n",
    "    \"ttl\": 28800,\n",
    "}\n",
    "resp = requests.post(\"http://localhost:8080/admin/accounts\", headers=headers, json=account)\n",
    "resp.json()"
   ]
  },
  {
   "cell_type": "markdown",
   "metadata": {},
   "source": [
    "### Shares"
   ]
  },
  {
   "cell_type": "code",
   "execution_count": null,
   "metadata": {},
   "outputs": [],
   "source": [
    "new_share = {\n",
    "    \"name\": \"dev-share\",\n",
    "}\n",
    "resp = requests.post(\"http://localhost:8080/admin/shares\", headers=headers, json=new_share)\n",
    "resp.json()"
   ]
  },
  {
   "cell_type": "code",
   "execution_count": null,
   "metadata": {},
   "outputs": [],
   "source": [
    "resp = requests.get(\"http://localhost:8080/shares\", headers=headers)\n",
    "shares = resp.json()\n",
    "shares"
   ]
  },
  {
   "cell_type": "code",
   "execution_count": null,
   "metadata": {},
   "outputs": [],
   "source": [
    "share_name = shares[\"items\"][0][\"name\"]\n",
    "resp = requests.get(f\"http://localhost:8080/shares/{share_name}\", headers=headers)\n",
    "resp.json()"
   ]
  },
  {
   "cell_type": "code",
   "execution_count": null,
   "metadata": {},
   "outputs": [],
   "source": [
    "share_name = shares[\"items\"][0][\"name\"]\n",
    "resp = requests.get(f\"http://localhost:8080/shares/{share_name}/all-tables\", headers=headers)\n",
    "resp.json()"
   ]
  },
  {
   "cell_type": "code",
   "execution_count": null,
   "metadata": {},
   "outputs": [],
   "source": [
    "# add a schema\n",
    "new_schema = {\n",
    "    \"name\": \"dev-schema\",\n",
    "}\n",
    "resp = requests.post(f\"http://localhost:8080/admin/shares/{share_name}/schemas\", headers=headers, json=new_schema)\n",
    "resp.json()"
   ]
  },
  {
   "cell_type": "code",
   "execution_count": null,
   "metadata": {},
   "outputs": [],
   "source": [
    "# list all schemas in a share\n",
    "share_name = shares[\"items\"][0][\"name\"]\n",
    "resp = requests.get(f\"http://localhost:8080/shares/{share_name}/schemas\", headers=headers)\n",
    "resp.json()"
   ]
  }
 ],
 "metadata": {
  "kernelspec": {
   "display_name": "Python 3",
   "language": "python",
   "name": "python3"
  },
  "language_info": {
   "codemirror_mode": {
    "name": "ipython",
    "version": 3
   },
   "file_extension": ".py",
   "mimetype": "text/x-python",
   "name": "python",
   "nbconvert_exporter": "python",
   "pygments_lexer": "ipython3",
   "version": "3.10.6"
  },
  "orig_nbformat": 4
 },
 "nbformat": 4,
 "nbformat_minor": 2
}
